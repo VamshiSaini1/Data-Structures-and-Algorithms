{
 "cells": [
  {
   "cell_type": "code",
   "execution_count": 18,
   "id": "1101d9c2-e9e9-48d6-8e11-adf6af7d061d",
   "metadata": {},
   "outputs": [
    {
     "name": "stdout",
     "output_type": "stream",
     "text": [
      "30 ---> 40 ---> 50 ---> "
     ]
    }
   ],
   "source": [
    "# Singly linked list\n",
    "\n",
    "\n",
    "class Node:\n",
    "    def __init__(self,data):\n",
    "        self.value = data\n",
    "        self.next = None\n",
    "class Sll:\n",
    "    def __init__(self):\n",
    "        self.head = None\n",
    "        \n",
    "    def display(self):\n",
    "        headVal = self.head\n",
    "        if(headVal == None):\n",
    "            print('Empty Linked List')\n",
    "        while headVal:\n",
    "            print(headVal.value, \"--->\", end = \" \")\n",
    "            headVal = headVal.next\n",
    "            \n",
    "\n",
    "LList1 = Sll()\n",
    "n1 = Node(30)\n",
    "LList1.head = n1\n",
    "n2 = Node(40)\n",
    "n1.next=n2\n",
    "n3 = Node(50)\n",
    "n2.next = n3\n",
    "LList1.display()\n",
    "\n",
    "    \n",
    "    "
   ]
  },
  {
   "cell_type": "code",
   "execution_count": null,
   "id": "c61c8437-da16-4117-b7b7-0c4d2212b819",
   "metadata": {},
   "outputs": [],
   "source": []
  }
 ],
 "metadata": {
  "kernelspec": {
   "display_name": "Python 3 (ipykernel)",
   "language": "python",
   "name": "python3"
  },
  "language_info": {
   "codemirror_mode": {
    "name": "ipython",
    "version": 3
   },
   "file_extension": ".py",
   "mimetype": "text/x-python",
   "name": "python",
   "nbconvert_exporter": "python",
   "pygments_lexer": "ipython3",
   "version": "3.12.4"
  }
 },
 "nbformat": 4,
 "nbformat_minor": 5
}
