{
 "cells": [
  {
   "cell_type": "markdown",
   "metadata": {},
   "source": [
    "# Two sorted arrays arr1 and arr2, return a new array that combines both of them and is also sorted."
   ]
  },
  {
   "cell_type": "code",
   "execution_count": 32,
   "metadata": {},
   "outputs": [
    {
     "data": {
      "text/plain": [
       "[-4, -3, -2, 2, 35, 51]"
      ]
     },
     "execution_count": 32,
     "metadata": {},
     "output_type": "execute_result"
    }
   ],
   "source": [
    "arr1 = [10, 30, 50]\n",
    "arr2 = [2, 35, 51]\n",
    "arr3 = []\n",
    "arr4 = [-4, -3, -2]\n",
    "\n",
    "def combine(arr1, arr2):\n",
    "    combined_arr = []\n",
    "    i= 0\n",
    "    j =0 \n",
    "    while i < len(arr1) and j < len(arr2):\n",
    "        if arr1[i] > arr2[j]:\n",
    "            combined_arr.append(arr2[j])\n",
    "            j = j+1\n",
    "        elif arr1[i] < arr2[j]:\n",
    "            combined_arr.append(arr1[i])\n",
    "            i = i+1\n",
    "    while i<len(arr1):\n",
    "        combined_arr.append(arr1[i])\n",
    "        i=i+1\n",
    "    while j<len(arr2):\n",
    "        combined_arr.append(arr2[j])\n",
    "        j=j+1\n",
    "    return combined_arr\n",
    "\n",
    "combine(arr2,arr4)"
   ]
  },
  {
   "cell_type": "markdown",
   "metadata": {},
   "source": [
    "# A subsequence of a string is a new string that is formed from the original string by deleting some (can be none) of the characters without disturbing the relative positions of the remaining characters. (i.e., \"ace\" is a subsequence of \"abcde\" while \"aec\" is not)."
   ]
  },
  {
   "cell_type": "code",
   "execution_count": null,
   "metadata": {},
   "outputs": [
    {
     "name": "stdout",
     "output_type": "stream",
     "text": [
      "a\n",
      "s\n",
      "h\n",
      "True\n"
     ]
    }
   ],
   "source": [
    "class Solution:\n",
    "    def isSubsequence(self, subset: str, actual: str) -> bool:\n",
    "        found = ''\n",
    "        i=0\n",
    "        j=0\n",
    "        while i < len(subset) and j < len(actual):\n",
    "            if subset[i] == actual[j]:\n",
    "                print(actual[j])\n",
    "                found = found+actual[j]\n",
    "                i = i+1\n",
    "                j = j+1\n",
    "            elif subset[i] != actual[j]:\n",
    "                j = j+1\n",
    "        if str(found) == subset:\n",
    "            print('True')\n",
    "            return True\n",
    "        else:\n",
    "            print('False')\n",
    "            return False\n",
    "    \n",
    "str1 = 'Vamshi'\n",
    "str2 = 'ash'\n",
    "check_result = Solution()\n",
    "result = check_result.isSubsequence(str2,str1)"
   ]
  },
  {
   "cell_type": "markdown",
   "metadata": {},
   "source": [
    "# Given an integer array nums sorted in non-decreasing order, return an array of the squares of each number sorted in non-decreasing order."
   ]
  },
  {
   "cell_type": "code",
   "execution_count": 70,
   "metadata": {},
   "outputs": [
    {
     "name": "stdout",
     "output_type": "stream",
     "text": [
      "[4, 36, 1, 49, 9, 81]\n"
     ]
    }
   ],
   "source": [
    "from typing import List \n",
    "class Squares:\n",
    "    def sortedSquares(self, nums: List[int]) -> List[int]:\n",
    "        i=0\n",
    "        j=1\n",
    "        sortednums = []\n",
    "        while i < len(nums) and j <len(nums):\n",
    "            if abs(nums[i]) < abs(nums[j]):\n",
    "                sortednums.append(nums[i]*nums[i])\n",
    "                i=j\n",
    "                j=j+1\n",
    "            elif abs(nums[i]) > abs(nums[j]):\n",
    "                sortednums.append(nums[j]*nums[j])\n",
    "                j=j+1\n",
    "            \n",
    "        print(sortednums)\n",
    "        return sortednums\n",
    "squares_instance = Squares()\n",
    "squares_result = squares_instance.sortedSquares([10,2,6,1,7,3,9])\n"
   ]
  }
 ],
 "metadata": {
  "kernelspec": {
   "display_name": "Python 3",
   "language": "python",
   "name": "python3"
  },
  "language_info": {
   "codemirror_mode": {
    "name": "ipython",
    "version": 3
   },
   "file_extension": ".py",
   "mimetype": "text/x-python",
   "name": "python",
   "nbconvert_exporter": "python",
   "pygments_lexer": "ipython3",
   "version": "3.9.6"
  }
 },
 "nbformat": 4,
 "nbformat_minor": 2
}
